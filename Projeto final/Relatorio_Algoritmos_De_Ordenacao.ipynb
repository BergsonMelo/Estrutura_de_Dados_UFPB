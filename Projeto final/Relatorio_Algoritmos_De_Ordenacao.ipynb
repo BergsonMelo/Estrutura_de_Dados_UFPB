{
 "cells": [
  {
   "cell_type": "code",
   "execution_count": 12,
   "id": "5fac153e",
   "metadata": {},
   "outputs": [],
   "source": [
    "from .selection_sort import selection_sort"
    "from .insertion_sort import insertion_sort"
    "from .bubble_sort import bubble_sort"
    "from .merge_sort import merge_sort, merge"
    "from .quick_sort import quick_sort, partition"
   ]
  },
  {
   "cell_type": "code",
   "execution_count": 6,
   "id": "e320b621",
   "metadata": {},
   "outputs": [],
   "source": [
    "arquivos = [r\"instancias-num\\num1000.txt\", r\"instancias-num\\num_1000_3.txt\",\n",
    "            r\"instancias-num\\num_1000_4.txt\", r\"instancias-num\\num_10000_3.txt\",\n",
    "            r\"instancias-num\\num_10000.txt\", r\"instancias-num\\num_10000_1.txt\",\n",
    "            r\"instancias-num\\num_10000_3.txt\", r\"instancias-num\\num_10000_4.txt\",\n",
    "            r\"instancias-num\\num_100000_1.txt\", r\"instancias-num\\num_100000_2.txt\",\n",
    "            r\"instancias-num\\num_10000_3.txt\"]\n",
    "\n",
    "lista_de_arrays = []\n",
    "for arquivo in arquivos:\n",
    "    with open(arquivo, \"r\") as txt:\n",
    "        linhas = [linha.strip() for linha in txt.readlines()]\n",
    "    array = [int(linha) for linha in linhas]\n",
    "    lista_de_arrays.append(array)"
   ]
  },
  {
   "cell_type": "markdown",
   "id": "116c0e09",
   "metadata": {},
   "source": [
    "# Testando com as instâncias fornecidas"
   ]
  },
  {
   "cell_type": "markdown",
   "id": "21bc7567",
   "metadata": {},
   "source": [
    "### Primeiro teste"
   ]
  },
  {
   "cell_type": "code",
   "execution_count": 41,
   "id": "7f744215",
   "metadata": {},
   "outputs": [],
   "source": [
    "k = 0"
   ]
  },
  {
   "cell_type": "code",
   "execution_count": 42,
   "id": "681b61b7",
   "metadata": {},
   "outputs": [
    {
     "name": "stdout",
     "output_type": "stream",
     "text": [
      "\n",
      "=> Testando selection_sort com array de tamanho: 1001\n",
      "Wall time: 54.8 ms\n"
     ]
    }
   ],
   "source": [
    "%%time\n",
    "print(f\"\\n=> Testando selection_sort com array de tamanho: {len(lista_de_arrays[k])}\")\n",
    "selection_sort(lista_de_arrays[k].copy())\n",
    "a = 0"
   ]
  },
  {
   "cell_type": "code",
   "execution_count": 43,
   "id": "07c1a588",
   "metadata": {},
   "outputs": [
    {
     "name": "stdout",
     "output_type": "stream",
     "text": [
      "\n",
      "=> Testando bubble_sort com array de tamanho: 1001\n",
      "Wall time: 181 ms\n"
     ]
    }
   ],
   "source": [
    "%%time\n",
    "print(f\"\\n=> Testando bubble_sort com array de tamanho: {len(lista_de_arrays[k])}\")\n",
    "bubble_sort(lista_de_arrays[k].copy())\n",
    "a = 0"
   ]
  },
  {
   "cell_type": "code",
   "execution_count": 44,
   "id": "33b72860",
   "metadata": {},
   "outputs": [
    {
     "name": "stdout",
     "output_type": "stream",
     "text": [
      "\n",
      "=> Testando insertion_sort com array de tamanho: 1001\n",
      "Wall time: 77.9 ms\n"
     ]
    }
   ],
   "source": [
    "%%time\n",
    "print(f\"\\n=> Testando insertion_sort com array de tamanho: {len(lista_de_arrays[k])}\")\n",
    "insertion_sort(lista_de_arrays[k].copy())\n",
    "a = 0"
   ]
  },
  {
   "cell_type": "code",
   "execution_count": 47,
   "id": "daa0e9b1",
   "metadata": {},
   "outputs": [
    {
     "name": "stdout",
     "output_type": "stream",
     "text": [
      "\n",
      "=> Testando merge_sort com array de tamanho: 1001\n",
      "Wall time: 8 ms\n"
     ]
    }
   ],
   "source": [
    "%%time\n",
    "print(f\"\\n=> Testando merge_sort com array de tamanho: {len(lista_de_arrays[k])}\")\n",
    "merge_sort(lista_de_arrays[k].copy(), 0, len(lista_de_arrays[k].copy())-1)\n",
    "a = 0"
   ]
  },
  {
   "cell_type": "code",
   "execution_count": 48,
   "id": "bad01f59",
   "metadata": {},
   "outputs": [
    {
     "name": "stdout",
     "output_type": "stream",
     "text": [
      "\n",
      "=> Testando quick_sort com array de tamanho: 1001\n",
      "Wall time: 8.01 ms\n"
     ]
    }
   ],
   "source": [
    "%%time\n",
    "print(f\"\\n=> Testando quick_sort com array de tamanho: {len(lista_de_arrays[k])}\")\n",
    "quick_sort(lista_de_arrays[k].copy(), 0, len(lista_de_arrays[k].copy())-1)\n",
    "a = 0"
   ]
  },
  {
   "cell_type": "markdown",
   "id": "6870f866",
   "metadata": {},
   "source": [
    "### Segundo teste"
   ]
  },
  {
   "cell_type": "code",
   "execution_count": 49,
   "id": "0791d156",
   "metadata": {},
   "outputs": [],
   "source": [
    "k = 1"
   ]
  },
  {
   "cell_type": "code",
   "execution_count": 50,
   "id": "baabbd37",
   "metadata": {},
   "outputs": [
    {
     "name": "stdout",
     "output_type": "stream",
     "text": [
      "\n",
      "=> Testando selection_sort com array de tamanho: 1001\n",
      "Wall time: 48.1 ms\n"
     ]
    }
   ],
   "source": [
    "%%time\n",
    "print(f\"\\n=> Testando selection_sort com array de tamanho: {len(lista_de_arrays[k])}\")\n",
    "selection_sort(lista_de_arrays[1].copy())\n",
    "a = 0"
   ]
  },
  {
   "cell_type": "code",
   "execution_count": 51,
   "id": "68d0dd5c",
   "metadata": {},
   "outputs": [
    {
     "name": "stdout",
     "output_type": "stream",
     "text": [
      "\n",
      "=> Testando bubble_sort com array de tamanho: 1001\n",
      "Wall time: 169 ms\n"
     ]
    }
   ],
   "source": [
    "%%time\n",
    "print(f\"\\n=> Testando bubble_sort com array de tamanho: {len(lista_de_arrays[k])}\")\n",
    "bubble_sort(lista_de_arrays[1].copy())\n",
    "a = 0"
   ]
  },
  {
   "cell_type": "code",
   "execution_count": 52,
   "id": "c3bab00d",
   "metadata": {},
   "outputs": [
    {
     "name": "stdout",
     "output_type": "stream",
     "text": [
      "\n",
      "=> Testando insertion_sort com array de tamanho: 1001\n",
      "Wall time: 79.5 ms\n"
     ]
    }
   ],
   "source": [
    "%%time\n",
    "print(f\"\\n=> Testando insertion_sort com array de tamanho: {len(lista_de_arrays[k])}\")\n",
    "insertion_sort(lista_de_arrays[1].copy())\n",
    "a = 0"
   ]
  },
  {
   "cell_type": "code",
   "execution_count": 53,
   "id": "331d00f0",
   "metadata": {},
   "outputs": [
    {
     "name": "stdout",
     "output_type": "stream",
     "text": [
      "\n",
      "=> Testando merge_sort com array de tamanho: 1001\n",
      "Wall time: 8 ms\n"
     ]
    }
   ],
   "source": [
    "%%time\n",
    "print(f\"\\n=> Testando merge_sort com array de tamanho: {len(lista_de_arrays[k])}\")\n",
    "merge_sort(lista_de_arrays[k].copy(), 0, len(lista_de_arrays[k].copy())-1)\n",
    "a = 0"
   ]
  },
  {
   "cell_type": "code",
   "execution_count": 54,
   "id": "41375073",
   "metadata": {},
   "outputs": [
    {
     "name": "stdout",
     "output_type": "stream",
     "text": [
      "\n",
      "=> Testando quick_sort com array de tamanho: 1001\n",
      "Wall time: 8 ms\n"
     ]
    }
   ],
   "source": [
    "%%time\n",
    "print(f\"\\n=> Testando quick_sort com array de tamanho: {len(lista_de_arrays[k])}\")\n",
    "quick_sort(lista_de_arrays[k].copy(), 0, len(lista_de_arrays[k].copy())-1)\n",
    "a = 0"
   ]
  },
  {
   "cell_type": "markdown",
   "id": "3081f6cc",
   "metadata": {},
   "source": [
    "### Terceiro teste"
   ]
  },
  {
   "cell_type": "code",
   "execution_count": 75,
   "id": "4482c094",
   "metadata": {},
   "outputs": [],
   "source": [
    "k = 2"
   ]
  },
  {
   "cell_type": "code",
   "execution_count": 76,
   "id": "76bf55d0",
   "metadata": {},
   "outputs": [
    {
     "name": "stdout",
     "output_type": "stream",
     "text": [
      "\n",
      "=> Testando selection_sort com array de tamanho: 1001\n",
      "Wall time: 49.7 ms\n"
     ]
    }
   ],
   "source": [
    "%%time\n",
    "print(f\"\\n=> Testando selection_sort com array de tamanho: {len(lista_de_arrays[k])}\")\n",
    "selection_sort(lista_de_arrays[k].copy())\n",
    "a = 0"
   ]
  },
  {
   "cell_type": "code",
   "execution_count": 77,
   "id": "f13c405a",
   "metadata": {},
   "outputs": [
    {
     "name": "stdout",
     "output_type": "stream",
     "text": [
      "\n",
      "=> Testando bubble_sort com array de tamanho: 1001\n",
      "Wall time: 187 ms\n"
     ]
    }
   ],
   "source": [
    "%%time\n",
    "print(f\"\\n=> Testando bubble_sort com array de tamanho: {len(lista_de_arrays[k])}\")\n",
    "bubble_sort(lista_de_arrays[k].copy())\n",
    "a = 0"
   ]
  },
  {
   "cell_type": "code",
   "execution_count": 78,
   "id": "586661b3",
   "metadata": {},
   "outputs": [
    {
     "name": "stdout",
     "output_type": "stream",
     "text": [
      "\n",
      "=> Testando insertion_sort com array de tamanho: 1001\n",
      "Wall time: 74.9 ms\n"
     ]
    }
   ],
   "source": [
    "%%time\n",
    "print(f\"\\n=> Testando insertion_sort com array de tamanho: {len(lista_de_arrays[k])}\")\n",
    "insertion_sort(lista_de_arrays[k].copy())\n",
    "a = 0"
   ]
  },
  {
   "cell_type": "code",
   "execution_count": 79,
   "id": "4da10099",
   "metadata": {},
   "outputs": [
    {
     "name": "stdout",
     "output_type": "stream",
     "text": [
      "\n",
      "=> Testando merge_sort com array de tamanho: 1001\n",
      "Wall time: 8 ms\n"
     ]
    }
   ],
   "source": [
    "%%time\n",
    "print(f\"\\n=> Testando merge_sort com array de tamanho: {len(lista_de_arrays[k])}\")\n",
    "merge_sort(lista_de_arrays[k].copy(), 0, len(lista_de_arrays[k].copy())-1)\n",
    "a = 0"
   ]
  },
  {
   "cell_type": "code",
   "execution_count": 80,
   "id": "1510adaf",
   "metadata": {},
   "outputs": [
    {
     "name": "stdout",
     "output_type": "stream",
     "text": [
      "\n",
      "=> Testando quick_sort com array de tamanho: 1001\n",
      "Wall time: 10.2 ms\n"
     ]
    }
   ],
   "source": [
    "%%time\n",
    "print(f\"\\n=> Testando quick_sort com array de tamanho: {len(lista_de_arrays[k])}\")\n",
    "quick_sort(lista_de_arrays[k].copy(), 0, len(lista_de_arrays[k].copy())-1)\n",
    "a = 0"
   ]
  },
  {
   "cell_type": "markdown",
   "id": "cf2bfcb5",
   "metadata": {},
   "source": [
    "### Quarto teste"
   ]
  },
  {
   "cell_type": "code",
   "execution_count": 81,
   "id": "c40be5d0",
   "metadata": {},
   "outputs": [],
   "source": [
    "k = 3"
   ]
  },
  {
   "cell_type": "code",
   "execution_count": 82,
   "id": "a417552a",
   "metadata": {},
   "outputs": [
    {
     "name": "stdout",
     "output_type": "stream",
     "text": [
      "\n",
      "=> Testando selection_sort com array de tamanho: 10001\n",
      "Wall time: 3.93 s\n"
     ]
    }
   ],
   "source": [
    "%%time\n",
    "print(f\"\\n=> Testando selection_sort com array de tamanho: {len(lista_de_arrays[k])}\")\n",
    "selection_sort(lista_de_arrays[k].copy())\n",
    "a = 0"
   ]
  },
  {
   "cell_type": "code",
   "execution_count": 83,
   "id": "5ff9b3af",
   "metadata": {},
   "outputs": [
    {
     "name": "stdout",
     "output_type": "stream",
     "text": [
      "\n",
      "=> Testando bubble_sort com array de tamanho: 10001\n",
      "Wall time: 15.6 s\n"
     ]
    }
   ],
   "source": [
    "%%time\n",
    "print(f\"\\n=> Testando bubble_sort com array de tamanho: {len(lista_de_arrays[k])}\")\n",
    "bubble_sort(lista_de_arrays[k].copy())\n",
    "a = 0"
   ]
  },
  {
   "cell_type": "code",
   "execution_count": 84,
   "id": "7b26b56b",
   "metadata": {},
   "outputs": [
    {
     "name": "stdout",
     "output_type": "stream",
     "text": [
      "\n",
      "=> Testando insertion_sort com array de tamanho: 10001\n",
      "Wall time: 7.25 s\n"
     ]
    }
   ],
   "source": [
    "%%time\n",
    "print(f\"\\n=> Testando insertion_sort com array de tamanho: {len(lista_de_arrays[k])}\")\n",
    "insertion_sort(lista_de_arrays[k].copy())\n",
    "a = 0"
   ]
  },
  {
   "cell_type": "code",
   "execution_count": 85,
   "id": "ec260026",
   "metadata": {},
   "outputs": [
    {
     "name": "stdout",
     "output_type": "stream",
     "text": [
      "\n",
      "=> Testando merge_sort com array de tamanho: 10001\n",
      "Wall time: 64.6 ms\n"
     ]
    }
   ],
   "source": [
    "%%time\n",
    "print(f\"\\n=> Testando merge_sort com array de tamanho: {len(lista_de_arrays[k])}\")\n",
    "merge_sort(lista_de_arrays[k].copy(), 0, len(lista_de_arrays[k].copy())-1)\n",
    "a = 0"
   ]
  },
  {
   "cell_type": "code",
   "execution_count": 86,
   "id": "d7136663",
   "metadata": {},
   "outputs": [
    {
     "name": "stdout",
     "output_type": "stream",
     "text": [
      "\n",
      "=> Testando quick_sort com array de tamanho: 10001\n",
      "Wall time: 52 ms\n"
     ]
    }
   ],
   "source": [
    "%%time\n",
    "print(f\"\\n=> Testando quick_sort com array de tamanho: {len(lista_de_arrays[k])}\")\n",
    "quick_sort(lista_de_arrays[k].copy(), 0, len(lista_de_arrays[k].copy())-1)\n",
    "a = 0"
   ]
  },
  {
   "cell_type": "markdown",
   "id": "1205de0d",
   "metadata": {},
   "source": [
    "### Quinto teste"
   ]
  },
  {
   "cell_type": "code",
   "execution_count": 87,
   "id": "7ac58dee",
   "metadata": {},
   "outputs": [],
   "source": [
    "k = 4"
   ]
  },
  {
   "cell_type": "code",
   "execution_count": 88,
   "id": "00298e23",
   "metadata": {},
   "outputs": [
    {
     "name": "stdout",
     "output_type": "stream",
     "text": [
      "\n",
      "=> Testando selection_sort com array de tamanho: 10001\n",
      "Wall time: 3.89 s\n"
     ]
    }
   ],
   "source": [
    "%%time\n",
    "print(f\"\\n=> Testando selection_sort com array de tamanho: {len(lista_de_arrays[k])}\")\n",
    "selection_sort(lista_de_arrays[k].copy())\n",
    "a = 0"
   ]
  },
  {
   "cell_type": "code",
   "execution_count": 89,
   "id": "98f7f8c5",
   "metadata": {},
   "outputs": [
    {
     "name": "stdout",
     "output_type": "stream",
     "text": [
      "\n",
      "=> Testando bubble_sort com array de tamanho: 10001\n",
      "Wall time: 15.5 s\n"
     ]
    }
   ],
   "source": [
    "%%time\n",
    "print(f\"\\n=> Testando bubble_sort com array de tamanho: {len(lista_de_arrays[k])}\")\n",
    "bubble_sort(lista_de_arrays[k].copy())\n",
    "a = 0"
   ]
  },
  {
   "cell_type": "code",
   "execution_count": 90,
   "id": "772d91d2",
   "metadata": {},
   "outputs": [
    {
     "name": "stdout",
     "output_type": "stream",
     "text": [
      "\n",
      "=> Testando insertion_sort com array de tamanho: 10001\n",
      "Wall time: 7.35 s\n"
     ]
    }
   ],
   "source": [
    "%%time\n",
    "print(f\"\\n=> Testando insertion_sort com array de tamanho: {len(lista_de_arrays[k])}\")\n",
    "insertion_sort(lista_de_arrays[k].copy())\n",
    "a = 0"
   ]
  },
  {
   "cell_type": "code",
   "execution_count": 91,
   "id": "8f5ccf1d",
   "metadata": {},
   "outputs": [
    {
     "name": "stdout",
     "output_type": "stream",
     "text": [
      "\n",
      "=> Testando merge_sort com array de tamanho: 10001\n",
      "Wall time: 66.8 ms\n"
     ]
    }
   ],
   "source": [
    "%%time\n",
    "print(f\"\\n=> Testando merge_sort com array de tamanho: {len(lista_de_arrays[k])}\")\n",
    "merge_sort(lista_de_arrays[k].copy(), 0, len(lista_de_arrays[k].copy())-1)\n",
    "a = 0"
   ]
  },
  {
   "cell_type": "code",
   "execution_count": 93,
   "id": "51673782",
   "metadata": {},
   "outputs": [
    {
     "name": "stdout",
     "output_type": "stream",
     "text": [
      "\n",
      "=> Testando quick_sort com array de tamanho: 10001\n",
      "Wall time: 59.9 ms\n"
     ]
    }
   ],
   "source": [
    "%%time\n",
    "print(f\"\\n=> Testando quick_sort com array de tamanho: {len(lista_de_arrays[k])}\")\n",
    "quick_sort(lista_de_arrays[k].copy(), 0, len(lista_de_arrays[k].copy())-1)\n",
    "a = 0"
   ]
  },
  {
   "cell_type": "markdown",
   "id": "1304f103",
   "metadata": {},
   "source": [
    "### Sexto teste"
   ]
  },
  {
   "cell_type": "code",
   "execution_count": 94,
   "id": "c2935174",
   "metadata": {},
   "outputs": [],
   "source": [
    "k = 5"
   ]
  },
  {
   "cell_type": "code",
   "execution_count": 95,
   "id": "49923015",
   "metadata": {},
   "outputs": [
    {
     "name": "stdout",
     "output_type": "stream",
     "text": [
      "\n",
      "=> Testando selection_sort com array de tamanho: 10001\n",
      "Wall time: 3.98 s\n"
     ]
    }
   ],
   "source": [
    "%%time\n",
    "print(f\"\\n=> Testando selection_sort com array de tamanho: {len(lista_de_arrays[k])}\")\n",
    "selection_sort(lista_de_arrays[k].copy())\n",
    "a = 0"
   ]
  },
  {
   "cell_type": "code",
   "execution_count": 96,
   "id": "7807b1e1",
   "metadata": {},
   "outputs": [
    {
     "name": "stdout",
     "output_type": "stream",
     "text": [
      "\n",
      "=> Testando bubble_sort com array de tamanho: 10001\n",
      "Wall time: 15.7 s\n"
     ]
    }
   ],
   "source": [
    "%%time\n",
    "print(f\"\\n=> Testando bubble_sort com array de tamanho: {len(lista_de_arrays[k])}\")\n",
    "bubble_sort(lista_de_arrays[k].copy())\n",
    "a = 0"
   ]
  },
  {
   "cell_type": "code",
   "execution_count": 97,
   "id": "257b9aca",
   "metadata": {},
   "outputs": [
    {
     "name": "stdout",
     "output_type": "stream",
     "text": [
      "\n",
      "=> Testando insertion_sort com array de tamanho: 10001\n",
      "Wall time: 7.31 s\n"
     ]
    }
   ],
   "source": [
    "%%time\n",
    "print(f\"\\n=> Testando insertion_sort com array de tamanho: {len(lista_de_arrays[k])}\")\n",
    "insertion_sort(lista_de_arrays[k].copy())\n",
    "a = 0"
   ]
  },
  {
   "cell_type": "code",
   "execution_count": 98,
   "id": "af3679d2",
   "metadata": {},
   "outputs": [
    {
     "name": "stdout",
     "output_type": "stream",
     "text": [
      "\n",
      "=> Testando merge_sort com array de tamanho: 10001\n",
      "Wall time: 73.5 ms\n"
     ]
    }
   ],
   "source": [
    "%%time\n",
    "print(f\"\\n=> Testando merge_sort com array de tamanho: {len(lista_de_arrays[k])}\")\n",
    "merge_sort(lista_de_arrays[k].copy(), 0, len(lista_de_arrays[k].copy())-1)\n",
    "a = 0"
   ]
  },
  {
   "cell_type": "code",
   "execution_count": 99,
   "id": "9fe22eea",
   "metadata": {},
   "outputs": [
    {
     "name": "stdout",
     "output_type": "stream",
     "text": [
      "\n",
      "=> Testando quick_sort com array de tamanho: 10001\n",
      "Wall time: 57.2 ms\n"
     ]
    }
   ],
   "source": [
    "%%time\n",
    "print(f\"\\n=> Testando quick_sort com array de tamanho: {len(lista_de_arrays[k])}\")\n",
    "quick_sort(lista_de_arrays[k].copy(), 0, len(lista_de_arrays[k].copy())-1)\n",
    "a = 0"
   ]
  },
  {
   "cell_type": "markdown",
   "id": "b3e6da7d",
   "metadata": {},
   "source": [
    "### Sétimo teste"
   ]
  },
  {
   "cell_type": "code",
   "execution_count": 100,
   "id": "0dd7fa5e",
   "metadata": {},
   "outputs": [],
   "source": [
    "k = 6"
   ]
  },
  {
   "cell_type": "code",
   "execution_count": 101,
   "id": "34405d2f",
   "metadata": {},
   "outputs": [
    {
     "name": "stdout",
     "output_type": "stream",
     "text": [
      "\n",
      "=> Testando selection_sort com array de tamanho: 10001\n",
      "Wall time: 3.95 s\n"
     ]
    }
   ],
   "source": [
    "%%time\n",
    "print(f\"\\n=> Testando selection_sort com array de tamanho: {len(lista_de_arrays[k])}\")\n",
    "selection_sort(lista_de_arrays[k].copy())\n",
    "a = 0"
   ]
  },
  {
   "cell_type": "code",
   "execution_count": 102,
   "id": "bd7bbe2f",
   "metadata": {},
   "outputs": [
    {
     "name": "stdout",
     "output_type": "stream",
     "text": [
      "\n",
      "=> Testando bubble_sort com array de tamanho: 10001\n",
      "Wall time: 15.6 s\n"
     ]
    }
   ],
   "source": [
    "%%time\n",
    "print(f\"\\n=> Testando bubble_sort com array de tamanho: {len(lista_de_arrays[k])}\")\n",
    "bubble_sort(lista_de_arrays[k].copy())\n",
    "a = 0"
   ]
  },
  {
   "cell_type": "code",
   "execution_count": 103,
   "id": "6407afdd",
   "metadata": {},
   "outputs": [
    {
     "name": "stdout",
     "output_type": "stream",
     "text": [
      "\n",
      "=> Testando insertion_sort com array de tamanho: 10001\n",
      "Wall time: 7.45 s\n"
     ]
    }
   ],
   "source": [
    "%%time\n",
    "print(f\"\\n=> Testando insertion_sort com array de tamanho: {len(lista_de_arrays[k])}\")\n",
    "insertion_sort(lista_de_arrays[k].copy())\n",
    "a = 0"
   ]
  },
  {
   "cell_type": "code",
   "execution_count": 104,
   "id": "d7957ffc",
   "metadata": {},
   "outputs": [
    {
     "name": "stdout",
     "output_type": "stream",
     "text": [
      "\n",
      "=> Testando merge_sort com array de tamanho: 10001\n",
      "Wall time: 79.6 ms\n"
     ]
    }
   ],
   "source": [
    "%%time\n",
    "print(f\"\\n=> Testando merge_sort com array de tamanho: {len(lista_de_arrays[k])}\")\n",
    "merge_sort(lista_de_arrays[k].copy(), 0, len(lista_de_arrays[k].copy())-1)\n",
    "a = 0"
   ]
  },
  {
   "cell_type": "code",
   "execution_count": 105,
   "id": "398aa1ca",
   "metadata": {},
   "outputs": [
    {
     "name": "stdout",
     "output_type": "stream",
     "text": [
      "\n",
      "=> Testando quick_sort com array de tamanho: 10001\n",
      "Wall time: 47.2 ms\n"
     ]
    }
   ],
   "source": [
    "%%time\n",
    "print(f\"\\n=> Testando quick_sort com array de tamanho: {len(lista_de_arrays[k])}\")\n",
    "quick_sort(lista_de_arrays[k].copy(), 0, len(lista_de_arrays[k].copy())-1)\n",
    "a = 0"
   ]
  },
  {
   "cell_type": "markdown",
   "id": "d14698a0",
   "metadata": {},
   "source": [
    "### Oitavo teste"
   ]
  },
  {
   "cell_type": "code",
   "execution_count": 106,
   "id": "0efa7b2f",
   "metadata": {},
   "outputs": [],
   "source": [
    "k = 7"
   ]
  },
  {
   "cell_type": "code",
   "execution_count": 107,
   "id": "747aa20b",
   "metadata": {},
   "outputs": [
    {
     "name": "stdout",
     "output_type": "stream",
     "text": [
      "\n",
      "=> Testando selection_sort com array de tamanho: 10001\n",
      "Wall time: 4.03 s\n"
     ]
    }
   ],
   "source": [
    "%%time\n",
    "print(f\"\\n=> Testando selection_sort com array de tamanho: {len(lista_de_arrays[k])}\")\n",
    "selection_sort(lista_de_arrays[k].copy())\n",
    "a = 0"
   ]
  },
  {
   "cell_type": "code",
   "execution_count": 108,
   "id": "5a23d3b4",
   "metadata": {},
   "outputs": [
    {
     "name": "stdout",
     "output_type": "stream",
     "text": [
      "\n",
      "=> Testando bubble_sort com array de tamanho: 10001\n",
      "Wall time: 15.9 s\n"
     ]
    }
   ],
   "source": [
    "%%time\n",
    "print(f\"\\n=> Testando bubble_sort com array de tamanho: {len(lista_de_arrays[k])}\")\n",
    "bubble_sort(lista_de_arrays[k].copy())\n",
    "a = 0"
   ]
  },
  {
   "cell_type": "code",
   "execution_count": 109,
   "id": "40102c55",
   "metadata": {},
   "outputs": [
    {
     "name": "stdout",
     "output_type": "stream",
     "text": [
      "\n",
      "=> Testando insertion_sort com array de tamanho: 10001\n",
      "Wall time: 7.5 s\n"
     ]
    }
   ],
   "source": [
    "%%time\n",
    "print(f\"\\n=> Testando insertion_sort com array de tamanho: {len(lista_de_arrays[k])}\")\n",
    "insertion_sort(lista_de_arrays[k].copy())\n",
    "a = 0"
   ]
  },
  {
   "cell_type": "code",
   "execution_count": 110,
   "id": "72758694",
   "metadata": {},
   "outputs": [
    {
     "name": "stdout",
     "output_type": "stream",
     "text": [
      "\n",
      "=> Testando merge_sort com array de tamanho: 10001\n",
      "Wall time: 75.9 ms\n"
     ]
    }
   ],
   "source": [
    "%%time\n",
    "print(f\"\\n=> Testando merge_sort com array de tamanho: {len(lista_de_arrays[k])}\")\n",
    "merge_sort(lista_de_arrays[k].copy(), 0, len(lista_de_arrays[k].copy())-1)\n",
    "a = 0"
   ]
  },
  {
   "cell_type": "code",
   "execution_count": 111,
   "id": "93274d1a",
   "metadata": {},
   "outputs": [
    {
     "name": "stdout",
     "output_type": "stream",
     "text": [
      "\n",
      "=> Testando quick_sort com array de tamanho: 10001\n",
      "Wall time: 49 ms\n"
     ]
    }
   ],
   "source": [
    "%%time\n",
    "print(f\"\\n=> Testando quick_sort com array de tamanho: {len(lista_de_arrays[k])}\")\n",
    "quick_sort(lista_de_arrays[k].copy(), 0, len(lista_de_arrays[k].copy())-1)\n",
    "a = 0"
   ]
  },
  {
   "cell_type": "markdown",
   "id": "bdccb745",
   "metadata": {},
   "source": [
    "### Nono teste"
   ]
  },
  {
   "cell_type": "code",
   "execution_count": 112,
   "id": "31d1b919",
   "metadata": {},
   "outputs": [],
   "source": [
    "k = 8"
   ]
  },
  {
   "cell_type": "code",
   "execution_count": 113,
   "id": "465d8c45",
   "metadata": {},
   "outputs": [
    {
     "name": "stdout",
     "output_type": "stream",
     "text": [
      "\n",
      "=> Testando selection_sort com array de tamanho: 100001\n",
      "Wall time: 4min 42s\n"
     ]
    }
   ],
   "source": [
    "%%time\n",
    "print(f\"\\n=> Testando selection_sort com array de tamanho: {len(lista_de_arrays[k])}\")\n",
    "selection_sort(lista_de_arrays[k].copy())\n",
    "a = 0"
   ]
  },
  {
   "cell_type": "code",
   "execution_count": 114,
   "id": "e262c92e",
   "metadata": {},
   "outputs": [
    {
     "name": "stdout",
     "output_type": "stream",
     "text": [
      "\n",
      "=> Testando bubble_sort com array de tamanho: 100001\n",
      "Wall time: 18min 38s\n"
     ]
    }
   ],
   "source": [
    "%%time\n",
    "print(f\"\\n=> Testando bubble_sort com array de tamanho: {len(lista_de_arrays[k])}\")\n",
    "bubble_sort(lista_de_arrays[k].copy())\n",
    "a = 0"
   ]
  },
  {
   "cell_type": "code",
   "execution_count": 115,
   "id": "fd6ff721",
   "metadata": {},
   "outputs": [
    {
     "name": "stdout",
     "output_type": "stream",
     "text": [
      "\n",
      "=> Testando insertion_sort com array de tamanho: 100001\n",
      "Wall time: 7min 18s\n"
     ]
    }
   ],
   "source": [
    "%%time\n",
    "print(f\"\\n=> Testando insertion_sort com array de tamanho: {len(lista_de_arrays[k])}\")\n",
    "insertion_sort(lista_de_arrays[k].copy())\n",
    "a = 0"
   ]
  },
  {
   "cell_type": "code",
   "execution_count": 116,
   "id": "dc102e36",
   "metadata": {},
   "outputs": [
    {
     "name": "stdout",
     "output_type": "stream",
     "text": [
      "\n",
      "=> Testando merge_sort com array de tamanho: 100001\n",
      "Wall time: 469 ms\n"
     ]
    }
   ],
   "source": [
    "%%time\n",
    "print(f\"\\n=> Testando merge_sort com array de tamanho: {len(lista_de_arrays[k])}\")\n",
    "merge_sort(lista_de_arrays[k].copy(), 0, len(lista_de_arrays[k].copy())-1)\n",
    "a = 0"
   ]
  },
  {
   "cell_type": "code",
   "execution_count": 117,
   "id": "7904425a",
   "metadata": {},
   "outputs": [
    {
     "name": "stdout",
     "output_type": "stream",
     "text": [
      "\n",
      "=> Testando quick_sort com array de tamanho: 100001\n",
      "Wall time: 1.04 s\n"
     ]
    }
   ],
   "source": [
    "%%time\n",
    "print(f\"\\n=> Testando quick_sort com array de tamanho: {len(lista_de_arrays[k])}\")\n",
    "quick_sort(lista_de_arrays[k].copy(), 0, len(lista_de_arrays[k].copy())-1)\n",
    "a = 0"
   ]
  },
  {
   "cell_type": "markdown",
   "id": "fe909a6c",
   "metadata": {},
   "source": [
    "### Décimo teste"
   ]
  },
  {
   "cell_type": "code",
   "execution_count": 118,
   "id": "13480990",
   "metadata": {},
   "outputs": [],
   "source": [
    "k = 9"
   ]
  },
  {
   "cell_type": "code",
   "execution_count": 119,
   "id": "a9b023b3",
   "metadata": {},
   "outputs": [
    {
     "name": "stdout",
     "output_type": "stream",
     "text": [
      "\n",
      "=> Testando selection_sort com array de tamanho: 100001\n",
      "Wall time: 3min 55s\n"
     ]
    }
   ],
   "source": [
    "%%time\n",
    "print(f\"\\n=> Testando selection_sort com array de tamanho: {len(lista_de_arrays[k])}\")\n",
    "selection_sort(lista_de_arrays[k].copy())\n",
    "a = 0"
   ]
  },
  {
   "cell_type": "code",
   "execution_count": 120,
   "id": "433a8587",
   "metadata": {},
   "outputs": [
    {
     "name": "stdout",
     "output_type": "stream",
     "text": [
      "\n",
      "=> Testando bubble_sort com array de tamanho: 100001\n",
      "Wall time: 18min 9s\n"
     ]
    }
   ],
   "source": [
    "%%time\n",
    "print(f\"\\n=> Testando bubble_sort com array de tamanho: {len(lista_de_arrays[k])}\")\n",
    "bubble_sort(lista_de_arrays[k].copy())\n",
    "a = 0"
   ]
  },
  {
   "cell_type": "code",
   "execution_count": 121,
   "id": "9dbce7ca",
   "metadata": {},
   "outputs": [
    {
     "name": "stdout",
     "output_type": "stream",
     "text": [
      "\n",
      "=> Testando insertion_sort com array de tamanho: 100001\n",
      "Wall time: 7min 18s\n"
     ]
    }
   ],
   "source": [
    "%%time\n",
    "print(f\"\\n=> Testando insertion_sort com array de tamanho: {len(lista_de_arrays[k])}\")\n",
    "insertion_sort(lista_de_arrays[k].copy())\n",
    "a = 0"
   ]
  },
  {
   "cell_type": "code",
   "execution_count": 122,
   "id": "a1238164",
   "metadata": {},
   "outputs": [
    {
     "name": "stdout",
     "output_type": "stream",
     "text": [
      "\n",
      "=> Testando merge_sort com array de tamanho: 100001\n",
      "Wall time: 462 ms\n"
     ]
    }
   ],
   "source": [
    "%%time\n",
    "print(f\"\\n=> Testando merge_sort com array de tamanho: {len(lista_de_arrays[k])}\")\n",
    "merge_sort(lista_de_arrays[k].copy(), 0, len(lista_de_arrays[k].copy())-1)\n",
    "a = 0"
   ]
  },
  {
   "cell_type": "code",
   "execution_count": 123,
   "id": "f3776c38",
   "metadata": {},
   "outputs": [
    {
     "name": "stdout",
     "output_type": "stream",
     "text": [
      "\n",
      "=> Testando quick_sort com array de tamanho: 100001\n",
      "Wall time: 1.02 s\n"
     ]
    }
   ],
   "source": [
    "%%time\n",
    "print(f\"\\n=> Testando quick_sort com array de tamanho: {len(lista_de_arrays[k])}\")\n",
    "quick_sort(lista_de_arrays[k].copy(), 0, len(lista_de_arrays[k].copy())-1)\n",
    "a = 0"
   ]
  },
  {
   "cell_type": "markdown",
   "id": "d69a684f",
   "metadata": {},
   "source": [
    "### Décimo primeiro teste"
   ]
  },
  {
   "cell_type": "code",
   "execution_count": 124,
   "id": "9273efa3",
   "metadata": {},
   "outputs": [],
   "source": [
    "k = 10"
   ]
  },
  {
   "cell_type": "code",
   "execution_count": 125,
   "id": "fe262dc1",
   "metadata": {},
   "outputs": [
    {
     "name": "stdout",
     "output_type": "stream",
     "text": [
      "\n",
      "=> Testando selection_sort com array de tamanho: 10001\n",
      "Wall time: 2.32 s\n"
     ]
    }
   ],
   "source": [
    "%%time\n",
    "print(f\"\\n=> Testando selection_sort com array de tamanho: {len(lista_de_arrays[k])}\")\n",
    "selection_sort(lista_de_arrays[k].copy())\n",
    "a = 0"
   ]
  },
  {
   "cell_type": "code",
   "execution_count": 126,
   "id": "a7162d11",
   "metadata": {},
   "outputs": [
    {
     "name": "stdout",
     "output_type": "stream",
     "text": [
      "\n",
      "=> Testando bubble_sort com array de tamanho: 10001\n",
      "Wall time: 10.5 s\n"
     ]
    }
   ],
   "source": [
    "%%time\n",
    "print(f\"\\n=> Testando bubble_sort com array de tamanho: {len(lista_de_arrays[k])}\")\n",
    "bubble_sort(lista_de_arrays[k].copy())\n",
    "a = 0"
   ]
  },
  {
   "cell_type": "code",
   "execution_count": 127,
   "id": "51c8e33b",
   "metadata": {},
   "outputs": [
    {
     "name": "stdout",
     "output_type": "stream",
     "text": [
      "\n",
      "=> Testando insertion_sort com array de tamanho: 10001\n",
      "Wall time: 4.32 s\n"
     ]
    }
   ],
   "source": [
    "%%time\n",
    "print(f\"\\n=> Testando insertion_sort com array de tamanho: {len(lista_de_arrays[k])}\")\n",
    "insertion_sort(lista_de_arrays[k].copy())\n",
    "a = 0"
   ]
  },
  {
   "cell_type": "code",
   "execution_count": 128,
   "id": "7e63babf",
   "metadata": {},
   "outputs": [
    {
     "name": "stdout",
     "output_type": "stream",
     "text": [
      "\n",
      "=> Testando merge_sort com array de tamanho: 10001\n",
      "Wall time: 40.3 ms\n"
     ]
    }
   ],
   "source": [
    "%%time\n",
    "print(f\"\\n=> Testando merge_sort com array de tamanho: {len(lista_de_arrays[k])}\")\n",
    "merge_sort(lista_de_arrays[k].copy(), 0, len(lista_de_arrays[k].copy())-1)\n",
    "a = 0"
   ]
  },
  {
   "cell_type": "code",
   "execution_count": 129,
   "id": "f23af0ce",
   "metadata": {},
   "outputs": [
    {
     "name": "stdout",
     "output_type": "stream",
     "text": [
      "\n",
      "=> Testando quick_sort com array de tamanho: 10001\n",
      "Wall time: 30.1 ms\n"
     ]
    }
   ],
   "source": [
    "%%time\n",
    "print(f\"\\n=> Testando quick_sort com array de tamanho: {len(lista_de_arrays[k])}\")\n",
    "quick_sort(lista_de_arrays[k].copy(), 0, len(lista_de_arrays[k].copy())-1)\n",
    "a = 0"
   ]
  }
 ],
 "metadata": {
  "kernelspec": {
   "display_name": "Python 3 (ipykernel)",
   "language": "python",
   "name": "python3"
  },
  "language_info": {
   "codemirror_mode": {
    "name": "ipython",
    "version": 3
   },
   "file_extension": ".py",
   "mimetype": "text/x-python",
   "name": "python",
   "nbconvert_exporter": "python",
   "pygments_lexer": "ipython3",
   "version": "3.9.13"
  }
 },
 "nbformat": 4,
 "nbformat_minor": 5
}
